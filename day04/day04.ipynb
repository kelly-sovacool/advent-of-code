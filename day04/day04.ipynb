{
 "cells": [
  {
   "cell_type": "markdown",
   "metadata": {},
   "source": [
    "# Day 04"
   ]
  },
  {
   "cell_type": "markdown",
   "metadata": {},
   "source": [
    "https://adventofcode.com/2018/day/4"
   ]
  },
  {
   "cell_type": "markdown",
   "metadata": {},
   "source": [
    "## Get data into a usable form"
   ]
  },
  {
   "cell_type": "code",
   "execution_count": 40,
   "metadata": {},
   "outputs": [
    {
     "data": {
      "text/plain": [
       "[[datetime.datetime(1518, 3, 16, 0, 4), 'Guard #1973 begins shift'],\n",
       " [datetime.datetime(1518, 3, 16, 0, 34), 'falls asleep'],\n",
       " [datetime.datetime(1518, 3, 16, 0, 39), 'wakes up'],\n",
       " [datetime.datetime(1518, 3, 16, 0, 52), 'falls asleep'],\n",
       " [datetime.datetime(1518, 3, 16, 0, 53), 'wakes up'],\n",
       " [datetime.datetime(1518, 3, 16, 0, 56), 'falls asleep'],\n",
       " [datetime.datetime(1518, 3, 16, 0, 59), 'wakes up'],\n",
       " [datetime.datetime(1518, 3, 16, 23, 57), 'Guard #1949 begins shift'],\n",
       " [datetime.datetime(1518, 3, 17, 0, 28), 'falls asleep'],\n",
       " [datetime.datetime(1518, 3, 17, 0, 41), 'wakes up']]"
      ]
     },
     "execution_count": 40,
     "metadata": {},
     "output_type": "execute_result"
    }
   ],
   "source": [
    "import datetime\n",
    "import operator\n",
    "data = list()\n",
    "with open('input.txt', 'r') as file:\n",
    "  for line in file:\n",
    "    split_line = line.strip().split(']')\n",
    "    datetime_obj = datetime.datetime.strptime(split_line[0].strip('['), \"%Y-%m-%d %H:%M\")\n",
    "    event = ''.join(split_line[1:]).strip()\n",
    "    data.append([datetime_obj, event])\n",
    "data.sort()\n",
    "data[:10]"
   ]
  },
  {
   "cell_type": "code",
   "execution_count": 126,
   "metadata": {},
   "outputs": [
    {
     "data": {
      "text/html": [
       "<div>\n",
       "<style scoped>\n",
       "    .dataframe tbody tr th:only-of-type {\n",
       "        vertical-align: middle;\n",
       "    }\n",
       "\n",
       "    .dataframe tbody tr th {\n",
       "        vertical-align: top;\n",
       "    }\n",
       "\n",
       "    .dataframe thead th {\n",
       "        text-align: right;\n",
       "    }\n",
       "</style>\n",
       "<table border=\"1\" class=\"dataframe\">\n",
       "  <thead>\n",
       "    <tr style=\"text-align: right;\">\n",
       "      <th></th>\n",
       "      <th>guard</th>\n",
       "      <th>minute</th>\n",
       "    </tr>\n",
       "  </thead>\n",
       "  <tbody>\n",
       "    <tr>\n",
       "      <th>0</th>\n",
       "      <td>#1973</td>\n",
       "      <td>34</td>\n",
       "    </tr>\n",
       "    <tr>\n",
       "      <th>1</th>\n",
       "      <td>#1973</td>\n",
       "      <td>34</td>\n",
       "    </tr>\n",
       "    <tr>\n",
       "      <th>2</th>\n",
       "      <td>#1973</td>\n",
       "      <td>35</td>\n",
       "    </tr>\n",
       "    <tr>\n",
       "      <th>3</th>\n",
       "      <td>#1973</td>\n",
       "      <td>36</td>\n",
       "    </tr>\n",
       "    <tr>\n",
       "      <th>4</th>\n",
       "      <td>#1973</td>\n",
       "      <td>37</td>\n",
       "    </tr>\n",
       "  </tbody>\n",
       "</table>\n",
       "</div>"
      ],
      "text/plain": [
       "   guard  minute\n",
       "0  #1973      34\n",
       "1  #1973      34\n",
       "2  #1973      35\n",
       "3  #1973      36\n",
       "4  #1973      37"
      ]
     },
     "execution_count": 126,
     "metadata": {},
     "output_type": "execute_result"
    }
   ],
   "source": [
    "import collections\n",
    "counts = collections.defaultdict(int)\n",
    "sleep_times = list()\n",
    "sleep_dict = collections.defaultdict(dict)\n",
    "for row in data:\n",
    "    current_time = row[0].minute\n",
    "    event = row[1]\n",
    "    if event.startswith('Guard'):\n",
    "        guard = event.split()[1]\n",
    "    elif event == 'falls asleep':\n",
    "        sleep_times.append([guard, current_time])\n",
    "        counts[guard] += 1\n",
    "        if current_time not in sleep_dict[guard]:\n",
    "            sleep_dict[guard][current_time] = 0 \n",
    "        sleep_dict[guard][current_time] += 1\n",
    "    elif event == 'wakes up':\n",
    "        fell_asleep_time = sleep_times[-1][1]\n",
    "        for minute in range(fell_asleep_time, current_time):\n",
    "            sleep_times.append([guard, minute])\n",
    "            counts[guard] += 1\n",
    "            if minute not in sleep_dict[guard]:\n",
    "                sleep_dict[guard][minute] = 0\n",
    "            sleep_dict[guard][minute] += 1\n",
    "guard_sleep_times = pd.DataFrame(sleep_times, columns=['guard', 'minute'])\n",
    "guard_sleep_times.head()"
   ]
  },
  {
   "cell_type": "markdown",
   "metadata": {},
   "source": [
    "## Part 1"
   ]
  },
  {
   "cell_type": "markdown",
   "metadata": {},
   "source": [
    "### Sleepiest guard"
   ]
  },
  {
   "cell_type": "code",
   "execution_count": 118,
   "metadata": {},
   "outputs": [
    {
     "data": {
      "text/plain": [
       "defaultdict(int,\n",
       "            {'#1973': 424,\n",
       "             '#1949': 253,\n",
       "             '#3529': 414,\n",
       "             '#641': 525,\n",
       "             '#1049': 324,\n",
       "             '#1877': 215,\n",
       "             '#2179': 283,\n",
       "             '#379': 381,\n",
       "             '#317': 467,\n",
       "             '#2699': 128,\n",
       "             '#2137': 232,\n",
       "             '#2029': 258,\n",
       "             '#2281': 310,\n",
       "             '#193': 212,\n",
       "             '#509': 297,\n",
       "             '#3373': 275,\n",
       "             '#2011': 250,\n",
       "             '#853': 294,\n",
       "             '#2693': 314,\n",
       "             '#401': 185})"
      ]
     },
     "execution_count": 118,
     "metadata": {},
     "output_type": "execute_result"
    }
   ],
   "source": [
    "counts"
   ]
  },
  {
   "cell_type": "code",
   "execution_count": 119,
   "metadata": {},
   "outputs": [
    {
     "data": {
      "text/html": [
       "<div>\n",
       "<style scoped>\n",
       "    .dataframe tbody tr th:only-of-type {\n",
       "        vertical-align: middle;\n",
       "    }\n",
       "\n",
       "    .dataframe tbody tr th {\n",
       "        vertical-align: top;\n",
       "    }\n",
       "\n",
       "    .dataframe thead th {\n",
       "        text-align: right;\n",
       "    }\n",
       "</style>\n",
       "<table border=\"1\" class=\"dataframe\">\n",
       "  <thead>\n",
       "    <tr style=\"text-align: right;\">\n",
       "      <th></th>\n",
       "      <th>minute</th>\n",
       "    </tr>\n",
       "    <tr>\n",
       "      <th>guard</th>\n",
       "      <th></th>\n",
       "    </tr>\n",
       "  </thead>\n",
       "  <tbody>\n",
       "    <tr>\n",
       "      <th>#641</th>\n",
       "      <td>4</td>\n",
       "    </tr>\n",
       "    <tr>\n",
       "      <th>#641</th>\n",
       "      <td>4</td>\n",
       "    </tr>\n",
       "    <tr>\n",
       "      <th>#641</th>\n",
       "      <td>5</td>\n",
       "    </tr>\n",
       "    <tr>\n",
       "      <th>#641</th>\n",
       "      <td>6</td>\n",
       "    </tr>\n",
       "    <tr>\n",
       "      <th>#641</th>\n",
       "      <td>7</td>\n",
       "    </tr>\n",
       "    <tr>\n",
       "      <th>#641</th>\n",
       "      <td>8</td>\n",
       "    </tr>\n",
       "    <tr>\n",
       "      <th>#641</th>\n",
       "      <td>9</td>\n",
       "    </tr>\n",
       "    <tr>\n",
       "      <th>#641</th>\n",
       "      <td>10</td>\n",
       "    </tr>\n",
       "    <tr>\n",
       "      <th>#641</th>\n",
       "      <td>11</td>\n",
       "    </tr>\n",
       "    <tr>\n",
       "      <th>#641</th>\n",
       "      <td>12</td>\n",
       "    </tr>\n",
       "    <tr>\n",
       "      <th>#641</th>\n",
       "      <td>13</td>\n",
       "    </tr>\n",
       "    <tr>\n",
       "      <th>#641</th>\n",
       "      <td>14</td>\n",
       "    </tr>\n",
       "    <tr>\n",
       "      <th>#641</th>\n",
       "      <td>15</td>\n",
       "    </tr>\n",
       "    <tr>\n",
       "      <th>#641</th>\n",
       "      <td>16</td>\n",
       "    </tr>\n",
       "    <tr>\n",
       "      <th>#641</th>\n",
       "      <td>17</td>\n",
       "    </tr>\n",
       "    <tr>\n",
       "      <th>#641</th>\n",
       "      <td>18</td>\n",
       "    </tr>\n",
       "    <tr>\n",
       "      <th>#641</th>\n",
       "      <td>19</td>\n",
       "    </tr>\n",
       "    <tr>\n",
       "      <th>#641</th>\n",
       "      <td>20</td>\n",
       "    </tr>\n",
       "    <tr>\n",
       "      <th>#641</th>\n",
       "      <td>21</td>\n",
       "    </tr>\n",
       "    <tr>\n",
       "      <th>#641</th>\n",
       "      <td>22</td>\n",
       "    </tr>\n",
       "    <tr>\n",
       "      <th>#641</th>\n",
       "      <td>23</td>\n",
       "    </tr>\n",
       "    <tr>\n",
       "      <th>#641</th>\n",
       "      <td>24</td>\n",
       "    </tr>\n",
       "    <tr>\n",
       "      <th>#641</th>\n",
       "      <td>25</td>\n",
       "    </tr>\n",
       "    <tr>\n",
       "      <th>#641</th>\n",
       "      <td>26</td>\n",
       "    </tr>\n",
       "    <tr>\n",
       "      <th>#641</th>\n",
       "      <td>27</td>\n",
       "    </tr>\n",
       "    <tr>\n",
       "      <th>#641</th>\n",
       "      <td>28</td>\n",
       "    </tr>\n",
       "    <tr>\n",
       "      <th>#641</th>\n",
       "      <td>29</td>\n",
       "    </tr>\n",
       "    <tr>\n",
       "      <th>#641</th>\n",
       "      <td>30</td>\n",
       "    </tr>\n",
       "    <tr>\n",
       "      <th>#641</th>\n",
       "      <td>31</td>\n",
       "    </tr>\n",
       "    <tr>\n",
       "      <th>#641</th>\n",
       "      <td>32</td>\n",
       "    </tr>\n",
       "    <tr>\n",
       "      <th>...</th>\n",
       "      <td>...</td>\n",
       "    </tr>\n",
       "    <tr>\n",
       "      <th>#641</th>\n",
       "      <td>50</td>\n",
       "    </tr>\n",
       "    <tr>\n",
       "      <th>#641</th>\n",
       "      <td>51</td>\n",
       "    </tr>\n",
       "    <tr>\n",
       "      <th>#641</th>\n",
       "      <td>52</td>\n",
       "    </tr>\n",
       "    <tr>\n",
       "      <th>#641</th>\n",
       "      <td>18</td>\n",
       "    </tr>\n",
       "    <tr>\n",
       "      <th>#641</th>\n",
       "      <td>18</td>\n",
       "    </tr>\n",
       "    <tr>\n",
       "      <th>#641</th>\n",
       "      <td>19</td>\n",
       "    </tr>\n",
       "    <tr>\n",
       "      <th>#641</th>\n",
       "      <td>20</td>\n",
       "    </tr>\n",
       "    <tr>\n",
       "      <th>#641</th>\n",
       "      <td>21</td>\n",
       "    </tr>\n",
       "    <tr>\n",
       "      <th>#641</th>\n",
       "      <td>22</td>\n",
       "    </tr>\n",
       "    <tr>\n",
       "      <th>#641</th>\n",
       "      <td>23</td>\n",
       "    </tr>\n",
       "    <tr>\n",
       "      <th>#641</th>\n",
       "      <td>24</td>\n",
       "    </tr>\n",
       "    <tr>\n",
       "      <th>#641</th>\n",
       "      <td>25</td>\n",
       "    </tr>\n",
       "    <tr>\n",
       "      <th>#641</th>\n",
       "      <td>26</td>\n",
       "    </tr>\n",
       "    <tr>\n",
       "      <th>#641</th>\n",
       "      <td>27</td>\n",
       "    </tr>\n",
       "    <tr>\n",
       "      <th>#641</th>\n",
       "      <td>28</td>\n",
       "    </tr>\n",
       "    <tr>\n",
       "      <th>#641</th>\n",
       "      <td>29</td>\n",
       "    </tr>\n",
       "    <tr>\n",
       "      <th>#641</th>\n",
       "      <td>30</td>\n",
       "    </tr>\n",
       "    <tr>\n",
       "      <th>#641</th>\n",
       "      <td>31</td>\n",
       "    </tr>\n",
       "    <tr>\n",
       "      <th>#641</th>\n",
       "      <td>32</td>\n",
       "    </tr>\n",
       "    <tr>\n",
       "      <th>#641</th>\n",
       "      <td>33</td>\n",
       "    </tr>\n",
       "    <tr>\n",
       "      <th>#641</th>\n",
       "      <td>34</td>\n",
       "    </tr>\n",
       "    <tr>\n",
       "      <th>#641</th>\n",
       "      <td>35</td>\n",
       "    </tr>\n",
       "    <tr>\n",
       "      <th>#641</th>\n",
       "      <td>36</td>\n",
       "    </tr>\n",
       "    <tr>\n",
       "      <th>#641</th>\n",
       "      <td>37</td>\n",
       "    </tr>\n",
       "    <tr>\n",
       "      <th>#641</th>\n",
       "      <td>38</td>\n",
       "    </tr>\n",
       "    <tr>\n",
       "      <th>#641</th>\n",
       "      <td>39</td>\n",
       "    </tr>\n",
       "    <tr>\n",
       "      <th>#641</th>\n",
       "      <td>40</td>\n",
       "    </tr>\n",
       "    <tr>\n",
       "      <th>#641</th>\n",
       "      <td>41</td>\n",
       "    </tr>\n",
       "    <tr>\n",
       "      <th>#641</th>\n",
       "      <td>42</td>\n",
       "    </tr>\n",
       "    <tr>\n",
       "      <th>#641</th>\n",
       "      <td>43</td>\n",
       "    </tr>\n",
       "  </tbody>\n",
       "</table>\n",
       "<p>525 rows × 1 columns</p>\n",
       "</div>"
      ],
      "text/plain": [
       "       minute\n",
       "guard        \n",
       "#641        4\n",
       "#641        4\n",
       "#641        5\n",
       "#641        6\n",
       "#641        7\n",
       "#641        8\n",
       "#641        9\n",
       "#641       10\n",
       "#641       11\n",
       "#641       12\n",
       "#641       13\n",
       "#641       14\n",
       "#641       15\n",
       "#641       16\n",
       "#641       17\n",
       "#641       18\n",
       "#641       19\n",
       "#641       20\n",
       "#641       21\n",
       "#641       22\n",
       "#641       23\n",
       "#641       24\n",
       "#641       25\n",
       "#641       26\n",
       "#641       27\n",
       "#641       28\n",
       "#641       29\n",
       "#641       30\n",
       "#641       31\n",
       "#641       32\n",
       "...       ...\n",
       "#641       50\n",
       "#641       51\n",
       "#641       52\n",
       "#641       18\n",
       "#641       18\n",
       "#641       19\n",
       "#641       20\n",
       "#641       21\n",
       "#641       22\n",
       "#641       23\n",
       "#641       24\n",
       "#641       25\n",
       "#641       26\n",
       "#641       27\n",
       "#641       28\n",
       "#641       29\n",
       "#641       30\n",
       "#641       31\n",
       "#641       32\n",
       "#641       33\n",
       "#641       34\n",
       "#641       35\n",
       "#641       36\n",
       "#641       37\n",
       "#641       38\n",
       "#641       39\n",
       "#641       40\n",
       "#641       41\n",
       "#641       42\n",
       "#641       43\n",
       "\n",
       "[525 rows x 1 columns]"
      ]
     },
     "execution_count": 119,
     "metadata": {},
     "output_type": "execute_result"
    }
   ],
   "source": [
    "sleepiest_guard = guard_sleep_times.loc[guard_sleep_times['guard']=='#641'].set_index('guard')\n",
    "sleepiest_guard"
   ]
  },
  {
   "cell_type": "code",
   "execution_count": 122,
   "metadata": {},
   "outputs": [
    {
     "data": {
      "text/plain": [
       "<matplotlib.axes._subplots.AxesSubplot at 0x1a1c7182e8>"
      ]
     },
     "execution_count": 122,
     "metadata": {},
     "output_type": "execute_result"
    },
    {
     "data": {
      "image/png": "[encoded data removed]",
      "text/plain": [
       "<Figure size 432x288 with 1 Axes>"
      ]
     },
     "metadata": {
      "needs_background": "light"
     },
     "output_type": "display_data"
    }
   ],
   "source": [
    "import seaborn as sns\n",
    "import matplotlib.pyplot as plt\n",
    "%matplotlib inline\n",
    "sns.distplot(sleepiest_guard, bins=60, kde=False)"
   ]
  },
  {
   "cell_type": "markdown",
   "metadata": {},
   "source": [
    "### Sleepiest minute"
   ]
  },
  {
   "cell_type": "markdown",
   "metadata": {},
   "source": [
    "sleepiest_guard['minute'].value_counts().head()"
   ]
  },
  {
   "cell_type": "markdown",
   "metadata": {},
   "source": [
    "### Part 1 answer"
   ]
  },
  {
   "cell_type": "code",
   "execution_count": 123,
   "metadata": {},
   "outputs": [
    {
     "data": {
      "text/plain": [
       "26281"
      ]
     },
     "execution_count": 123,
     "metadata": {},
     "output_type": "execute_result"
    }
   ],
   "source": [
    "641 * 41"
   ]
  },
  {
   "cell_type": "markdown",
   "metadata": {},
   "source": [
    "## Part 2"
   ]
  },
  {
   "cell_type": "markdown",
   "metadata": {},
   "source": [
    "### Find sleepiest minute for each guard"
   ]
  },
  {
   "cell_type": "code",
   "execution_count": 132,
   "metadata": {},
   "outputs": [
    {
     "name": "stdout",
     "output_type": "stream",
     "text": [
      "guard #1973\ttime: 37\tcount: 20\n",
      "guard #1949\ttime: 35\tcount: 10\n",
      "guard #3529\ttime: 39\tcount: 12\n",
      "guard #641\ttime: 41\tcount: 16\n",
      "guard #1049\ttime: 41\tcount: 11\n",
      "guard #1877\ttime: 42\tcount: 8\n",
      "guard #2179\ttime: 23\tcount: 9\n",
      "guard #379\ttime: 35\tcount: 12\n",
      "guard #317\ttime: 42\tcount: 14\n",
      "guard #2699\ttime: 37\tcount: 5\n",
      "guard #2137\ttime: 24\tcount: 8\n",
      "guard #2029\ttime: 35\tcount: 10\n",
      "guard #2281\ttime: 46\tcount: 9\n",
      "guard #193\ttime: 44\tcount: 7\n",
      "guard #509\ttime: 54\tcount: 13\n",
      "guard #3373\ttime: 39\tcount: 8\n",
      "guard #2011\ttime: 40\tcount: 8\n",
      "guard #853\ttime: 33\tcount: 10\n",
      "guard #2693\ttime: 20\tcount: 10\n",
      "guard #401\ttime: 40\tcount: 5\n"
     ]
    }
   ],
   "source": [
    "for guard in sleep_dict:\n",
    "    sleepiest_time = max(sleep_dict[guard], key=lambda time: sleep_dict[guard][time])\n",
    "    print(f'guard {guard}\\ttime: {sleepiest_time}\\tcount: {sleep_dict[guard][sleepiest_time]}')"
   ]
  },
  {
   "cell_type": "markdown",
   "metadata": {},
   "source": [
    "### Part 2 answer"
   ]
  },
  {
   "cell_type": "code",
   "execution_count": 133,
   "metadata": {},
   "outputs": [
    {
     "data": {
      "text/plain": [
       "73001"
      ]
     },
     "execution_count": 133,
     "metadata": {},
     "output_type": "execute_result"
    }
   ],
   "source": [
    "1973 * 37"
   ]
  },
  {
   "cell_type": "code",
   "execution_count": null,
   "metadata": {},
   "outputs": [],
   "source": []
  }
 ],
 "metadata": {
  "kernelspec": {
   "display_name": "Python 3",
   "language": "python",
   "name": "python3"
  },
  "language_info": {
   "codemirror_mode": {
    "name": "ipython",
    "version": 3
   },
   "file_extension": ".py",
   "mimetype": "text/x-python",
   "name": "python",
   "nbconvert_exporter": "python",
   "pygments_lexer": "ipython3",
   "version": "3.6.7"
  }
 },
 "nbformat": 4,
 "nbformat_minor": 2
}
